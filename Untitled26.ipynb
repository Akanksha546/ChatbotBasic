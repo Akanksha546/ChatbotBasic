{
  "nbformat": 4,
  "nbformat_minor": 0,
  "metadata": {
    "colab": {
      "provenance": [],
      "authorship_tag": "ABX9TyPz6ta13ZZinixzHXaEjqns",
      "include_colab_link": true
    },
    "kernelspec": {
      "name": "python3",
      "display_name": "Python 3"
    },
    "language_info": {
      "name": "python"
    }
  },
  "cells": [
    {
      "cell_type": "markdown",
      "metadata": {
        "id": "view-in-github",
        "colab_type": "text"
      },
      "source": [
        "<a href=\"https://colab.research.google.com/github/Akanksha546/ChatbotBasic/blob/main/Untitled26.ipynb\" target=\"_parent\"><img src=\"https://colab.research.google.com/assets/colab-badge.svg\" alt=\"Open In Colab\"/></a>"
      ]
    },
    {
      "cell_type": "code",
      "execution_count": 1,
      "metadata": {
        "colab": {
          "base_uri": "https://localhost:8080/"
        },
        "id": "eVLsuOc_13Wz",
        "outputId": "a9e7643c-7af6-4ad6-b3ae-4531f30f8d0e"
      },
      "outputs": [
        {
          "output_type": "stream",
          "name": "stdout",
          "text": [
            "Hello! What language would you like to learn?\n",
            "> french\n",
            "What language do you already know?\n",
            "> english\n",
            "What’s your current level in french ? (Beginner/Intermediate/Advanced)\n",
            "> beginner\n",
            "Imaginez que vous êtes dans un café. Commandez un café !\n",
            "Imagine you're at a café in french-speaking country. Order a coffee!\n",
            "(Type in french, or 'exit' to finish): Je veux un café\n",
            "Politeness matters! Try: 'Je veux un café, s’il vous plaît.'\n",
            "(Type in french, or 'exit' to finish): j’ai aller\n",
            "Correct form: 'Je suis allé' (use être with aller in past tense).\n",
            "(Type in french, or 'exit' to finish): Je suis allé\n",
            "(Type in french, or 'exit' to finish): exit\n",
            "\n",
            "Review of your mistakes:\n",
            "- Mistake: Missing politeness | Correction: Politeness matters! Try: 'Je veux un café, s’il vous plaît.' | Type: vocabulary\n",
            "- Mistake: j’ai aller | Correction: Correct form: 'Je suis allé' (use être with aller in past tense). | Type: grammar\n"
          ]
        }
      ],
      "source": [
        "import sqlite3\n",
        "from datetime import datetime\n",
        "\n",
        "# Initialize SQLite database\n",
        "def init_db():\n",
        "    conn = sqlite3.connect(\"language_learning.db\")\n",
        "    c = conn.cursor()\n",
        "    c.execute('''CREATE TABLE IF NOT EXISTS mistakes\n",
        "                 (user_id TEXT, language TEXT, mistake TEXT, correction TEXT, mistake_type TEXT, timestamp TEXT)''')\n",
        "    conn.commit()\n",
        "    conn.close()\n",
        "\n",
        "# Function to log a mistake\n",
        "def log_mistake(user_id, language, mistake, correction, mistake_type):\n",
        "    conn = sqlite3.connect(\"language_learning.db\")\n",
        "    c = conn.cursor()\n",
        "    timestamp = datetime.now().strftime(\"%Y-%m-%d %H:%M:%S\")\n",
        "    c.execute(\"INSERT INTO mistakes VALUES (?, ?, ?, ?, ?, ?)\",\n",
        "              (user_id, language, mistake, correction, mistake_type, timestamp))\n",
        "    conn.commit()\n",
        "    conn.close()\n",
        "\n",
        "# Function to retrieve mistakes\n",
        "def get_mistakes(user_id, language):\n",
        "    conn = sqlite3.connect(\"language_learning.db\")\n",
        "    c = conn.cursor()\n",
        "    c.execute(\"SELECT mistake, correction, mistake_type FROM mistakes WHERE user_id=? AND language=?\",\n",
        "              (user_id, language))\n",
        "    mistakes = c.fetchall()\n",
        "    conn.close()\n",
        "    return mistakes\n",
        "\n",
        "# Main chatbot logic\n",
        "def language_chatbot():\n",
        "    user_id = \"user123\"  # Placeholder for unique user identifier\n",
        "    print(\"Hello! What language would you like to learn?\")\n",
        "    learning_language = input(\"> \").strip().lower()\n",
        "    print(\"What language do you already know?\")\n",
        "    known_language = input(\"> \").strip().lower()\n",
        "    print(\"What’s your current level in\", learning_language, \"? (Beginner/Intermediate/Advanced)\")\n",
        "    level = input(\"> \").strip().lower()\n",
        "\n",
        "    # Set scene based on level\n",
        "    if level == \"beginner\":\n",
        "        scene = f\"Imagine you're at a café in {learning_language}-speaking country. Order a coffee!\"\n",
        "        if learning_language == \"french\":\n",
        "            print(\"Imaginez que vous êtes dans un café. Commandez un café !\")\n",
        "    elif level == \"intermediate\":\n",
        "        scene = f\"Imagine you're chatting with a friend in {learning_language} about your day.\"\n",
        "        if learning_language == \"french\":\n",
        "            print(\"Imaginez que vous parlez avec un ami de votre journée.\")\n",
        "    else:\n",
        "        scene = f\"Imagine you're debating a topic in {learning_language} with a colleague.\"\n",
        "        if learning_language == \"french\":\n",
        "            print(\"Imaginez que vous débattez d’un sujet avec un collègue.\")\n",
        "\n",
        "    print(scene)\n",
        "    mistakes_list = []\n",
        "\n",
        "    # Conversation loop (simplified)\n",
        "    while True:\n",
        "        response = input(f\"(Type in {learning_language}, or 'exit' to finish): \")\n",
        "        if response.lower() == \"exit\":\n",
        "            break\n",
        "\n",
        "        # Example mistake detection (hardcoded for demo)\n",
        "        if learning_language == \"french\" and level == \"beginner\":\n",
        "            if \"je veux un café\" in response.lower() and \"s'il vous plaît\" not in response:\n",
        "                correction = \"Politeness matters! Try: 'Je veux un café, s’il vous plaît.'\"\n",
        "                print(correction)\n",
        "                log_mistake(user_id, learning_language, \"Missing politeness\", correction, \"vocabulary\")\n",
        "            elif \"j’ai aller\" in response.lower():\n",
        "                correction = \"Correct form: 'Je suis allé' (use être with aller in past tense).\"\n",
        "                print(correction)\n",
        "                log_mistake(user_id, learning_language, \"j’ai aller\", correction, \"grammar\")\n",
        "\n",
        "    # Review mistakes\n",
        "    mistakes = get_mistakes(user_id, learning_language)\n",
        "    if mistakes:\n",
        "        print(\"\\nReview of your mistakes:\")\n",
        "        for mistake, correction, mistake_type in mistakes:\n",
        "            print(f\"- Mistake: {mistake} | Correction: {correction} | Type: {mistake_type}\")\n",
        "        if len([m for m in mistakes if m[2] == \"grammar\"]) > 2:\n",
        "            print(\"Focus area: Work on your grammar, especially verb conjugations!\")\n",
        "    else:\n",
        "        print(\"Great job! No major mistakes detected.\")\n",
        "\n",
        "# Run the chatbot\n",
        "init_db()\n",
        "language_chatbot()"
      ]
    }
  ]
}